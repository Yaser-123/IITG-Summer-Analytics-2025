{
 "cells": [
  {
   "cell_type": "markdown",
   "id": "964dca95",
   "metadata": {},
   "source": [
    "# Anomaly Detection in Real Time\n",
    "\n",
    "**Author:** T Mohamed Yaser  \n",
    "\n",
    "*This notebook is created for the Pathway tutorial series.*\n",
    "\n",
    "\n",
    "\n",
    "Welcome! This notebook will guide you through real-time anomaly detection using practical datasets and Python code. Let's make machine learning both professional and fun! 🚀"
   ]
  },
  {
   "cell_type": "markdown",
   "id": "973c6951",
   "metadata": {},
   "source": [
    "## 🚀 Downloading the Dataset (with Explanation & Fun!)\n",
    "\n",
    "Before we start detecting anomalies, let's grab our dataset! Below, we use Python's `requests` library to fetch the login data. Each line is explained so you know exactly what's happening. \n",
    "\n",
    "> 💡 **Tip:** Want to make your notebook even cooler? Add a GIF showing the download in action! For example:\n",
    ">\n",
    "<img src=\"https://media.giphy.com/media/v1.Y2lkPTc5MGI3NjExZ2NhN2U0cTBrMnFqc2ptOXhhb3ZsNTdteTVnbmg2cGR1cTljaTBiYiZlcD12MV9naWZzX3NlYXJjaCZjdD1n/11ASZtb7vdJagM/giphy.gif\" alt=\"Download Animation\" style=\"width:350px; height:350px;\">\n",
    "\n"
   ]
  },
  {
   "cell_type": "code",
   "execution_count": 6,
   "id": "f82b6d61",
   "metadata": {},
   "outputs": [],
   "source": [
    "import requests  # Import the requests library for HTTP operations\n",
    "\n",
    "url = \"https://public-pathway-releases.s3.eu-central-1.amazonaws.com/data/suspicious_users_tutorial_logins.csv\"  # The URL of our dataset\n",
    "response = requests.get(url)  # Send a GET request to download the file\n",
    "with open(\"logins.csv\", \"wb\") as f:  # Open a new file in write-binary mode\n",
    "    f.write(response.content)  # Write the downloaded content to the file"
   ]
  },
  {
   "cell_type": "markdown",
   "id": "632afa17",
   "metadata": {},
   "source": [
    "## 📦 Installing Pathway — Your Data Sidekick!\n",
    "\n",
    "Before we dive into real-time anomaly detection, let's make sure we have our secret weapon: the `pathway` library! This cell installs Pathway straight from PyPI, so you’re always ready for blazing-fast data processing. 🚀\n",
    "\n",
    "> 🛠️ *Pro tip: If you already have Pathway, this will just update it to the latest version!*\n",
    ">\n",
    "> ![Install Animation](https://media.giphy.com/media/26ufnwz3wDUli7GU0/giphy.gif)\n"
   ]
  },
  {
   "cell_type": "code",
   "execution_count": null,
   "id": "6cc2e37f",
   "metadata": {},
   "outputs": [],
   "source": [
    "%%capture --no-display\n",
    "!pip install pathway"
   ]
  },
  {
   "cell_type": "markdown",
   "id": "a997ac49",
   "metadata": {},
   "source": [
    "## 🏗️ Setting Up Pathway & Data Schema\n",
    "\n",
    "Now, let's import Pathway and define the schema for our login data. This helps Pathway understand the structure of our CSV file. Each field (username, successful, time, ip_address) is described so we can process the data efficiently.\n",
    "\n",
    "\n",
    "<img src=\"https://media.giphy.com/media/v1.Y2lkPTc5MGI3NjExY3F6M2Y1MWx4ZWp5bXBwMzNpc2E5MzZwOW1nbnprNGtjZTZrazVyeSZlcD12MV9naWZzX3NlYXJjaCZjdD1n/l2JeblbdfRL0i2qOI/giphy.gif\" alt=\"Download Animation\" style=\"width:400px; height:350px;\">\n",
    "\n",
    "- `InputSchema`: Tells Pathway what columns to expect and their types.\n",
    "- `pw.io.csv.read`: Reads the CSV into a Pathway table for further analysis."
   ]
  },
  {
   "cell_type": "code",
   "execution_count": null,
   "id": "c4866430",
   "metadata": {},
   "outputs": [],
   "source": [
    "import pathway as pw\n",
    "\n",
    "\n",
    "\n",
    "class InputSchema(pw.Schema):\n",
    "    username: str\n",
    "    successful: str\n",
    "    time: int\n",
    "    ip_address: str\n",
    "\n",
    "\n",
    "logins = pw.io.csv.read(\n",
    "    \"logins.csv\",\n",
    "    schema=InputSchema,\n",
    "    mode=\"static\",\n",
    "  )\n"
   ]
  },
  {
   "cell_type": "markdown",
   "id": "510d26ef",
   "metadata": {},
   "source": [
    "## 🔄 Converting Login Success to Boolean\n",
    "\n",
    "Let's make our data easier to work with! Here, we convert the `successful` column from a string (\"True\"/\"False\") to a real boolean (`True`/`False`). This helps with filtering and analysis later on.\n",
    "\n",
    "- `with_columns`: Adds or modifies columns in the Pathway table.\n",
    "- `pw.this.successful == \"True\"`: Checks if each login was successful.\n",
    "\n",
    "<img src=\"https://media.giphy.com/media/v1.Y2lkPWVjZjA1ZTQ3bWExbDQycWJ2MTNha3IxajBwejRhejQxanN2aTVlbXU0cmR4dDhpcCZlcD12MV9naWZzX3NlYXJjaCZjdD1n/0G6S8B24tygYx27pPS/giphy.gif\" alt=\"Download Animation\" style=\"width:350px; height:350px;\">"
   ]
  },
  {
   "cell_type": "code",
   "execution_count": null,
   "id": "abb79702",
   "metadata": {},
   "outputs": [],
   "source": [
    "logins = logins.with_columns(successful=(pw.this.successful == \"True\"))"
   ]
  },
  {
   "cell_type": "markdown",
   "id": "6faaf09d",
   "metadata": {},
   "source": [
    "## ❌ Filtering Failed Logins\n",
    "\n",
    "Now, let's focus on the failed login attempts. We filter the data to keep only the rows where the login was not successful. This is crucial for detecting suspicious activity!\n",
    "\n",
    "- `filter(~pw.this.successful)`: Keeps only failed logins (where successful is False).\n",
    "\n",
    "> ![Filter Animation](https://media.giphy.com/media/3o6Zt6ML6BklcajjsA/giphy.gif)"
   ]
  },
  {
   "cell_type": "code",
   "execution_count": null,
   "id": "4968495d",
   "metadata": {},
   "outputs": [],
   "source": [
    "failed = logins.filter(~pw.this.successful)"
   ]
  },
  {
   "cell_type": "markdown",
   "id": "9db6a87f",
   "metadata": {},
   "source": [
    "## ⏲️ Counting Failed Logins per IP (per Minute)\n",
    "\n",
    "Let's see which IP addresses are failing to log in the most! We use a tumbling window to count failed logins per IP every 60 seconds.\n",
    "\n",
    "- `windowby`: Groups data by time window and IP address.\n",
    "- `reduce`: Counts the number of failed logins per group.\n",
    "\n",
    "> ![Window Animation](https://media.giphy.com/media/v1.Y2lkPTc5MGI3NjExMDh3cTh5NjkxNjJwanV3cm1xb2E3c3ZjMTA2OWR5NXZ3anM0NGxwNyZlcD12MV9naWZzX3NlYXJjaCZjdD1n/4JVTF9zR9BicshFAb7/giphy.gif)"
   ]
  },
  {
   "cell_type": "code",
   "execution_count": null,
   "id": "be9eab0f",
   "metadata": {},
   "outputs": [],
   "source": [
    "result = failed.windowby(\n",
    "    failed.time, window=pw.temporal.tumbling(duration=60), instance=pw.this.ip_address\n",
    ").reduce(\n",
    "    ip_address=pw.this._pw_instance,\n",
    "    count=pw.reducers.count(),\n",
    ")"
   ]
  },
  {
   "cell_type": "code",
   "execution_count": null,
   "id": "97d2e8a3",
   "metadata": {},
   "outputs": [],
   "source": [
    "suspicious_logins = result.filter(pw.this.count >= 5)\n",
    "pw.debug.compute_and_print(suspicious_logins)\n"
   ]
  },
  {
   "cell_type": "markdown",
   "id": "24347a07",
   "metadata": {},
   "source": [
    "---\n",
    "\n",
    "# 🎉 Congratulations!\n",
    "\n",
    "You've just built a real-time anomaly detector using Pathway and Python! 🚦\n",
    "\n",
    "Feel free to experiment, tweak, and explore further. Remember, every data adventure makes you a better data scientist. Keep learning and stay curious!\n",
    "\n",
    "> Made with ❤️ by T Mohamed Yaser with Pathway\n",
    "\n",
    "![Party Animation](https://media.giphy.com/media/111ebonMs90YLu/giphy.gif)"
   ]
  }
 ],
 "metadata": {
  "kernelspec": {
   "display_name": "venv",
   "language": "python",
   "name": "python3"
  },
  "language_info": {
   "codemirror_mode": {
    "name": "ipython",
    "version": 3
   },
   "file_extension": ".py",
   "mimetype": "text/x-python",
   "name": "python",
   "nbconvert_exporter": "python",
   "pygments_lexer": "ipython3",
   "version": "3.12.5"
  }
 },
 "nbformat": 4,
 "nbformat_minor": 5
}
